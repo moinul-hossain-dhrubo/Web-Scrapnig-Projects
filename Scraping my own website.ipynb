{
 "cells": [
  {
   "cell_type": "code",
   "execution_count": 153,
   "id": "3c3b37d1",
   "metadata": {},
   "outputs": [],
   "source": [
    "# importing libraries\n",
    "\n",
    "from bs4 import BeautifulSoup\n",
    "import requests\n",
    "import time\n",
    "import datetime\n",
    "\n",
    "import smtplib"
   ]
  },
  {
   "cell_type": "code",
   "execution_count": 154,
   "id": "f208d64e",
   "metadata": {},
   "outputs": [],
   "source": [
    "#connect to website\n",
    "\n",
    "URL = 'https://mhdhrubo.carrd.co/'\n",
    "\n",
    "headers = {\"User-Agent\": \"Mozilla/5.0 (Windows NT 10.0; Win64; x64) AppleWebKit/537.36 (KHTML, like Gecko) Chrome/114.0.0.0 Safari/537.36\"}\n",
    "\n",
    "page = requests.get(URL , headers = headers)\n",
    "#page.raise_for_status()\n",
    "\n",
    "soup1 = BeautifulSoup(page.content, 'html.parser')\n",
    "\n",
    "soup = BeautifulSoup(soup1.prettify(), 'html.parser')\n",
    "\n",
    "#soup"
   ]
  },
  {
   "cell_type": "code",
   "execution_count": 155,
   "id": "1010df36",
   "metadata": {},
   "outputs": [
    {
     "name": "stdout",
     "output_type": "stream",
     "text": [
      "Moinul Hossain Dhrubo\n",
      "Data Scientist / Analyst\n"
     ]
    }
   ],
   "source": [
    "name = soup.find(id=\"text02\").get_text()\n",
    "title = soup.find(id=\"text09\").get_text()\n",
    "\n",
    "name = name.strip()\n",
    "title = title.strip()\n",
    "\n",
    "print(name)\n",
    "print(title)"
   ]
  },
  {
   "cell_type": "code",
   "execution_count": 156,
   "id": "f786a112",
   "metadata": {},
   "outputs": [],
   "source": [
    "import csv\n",
    "\n",
    "header = ['Name','Title']\n",
    "data = [name, title]\n",
    "\n",
    "#type(data)\n",
    "\n",
    "with open('MyWebScrapping.csv','w',newline = '',encoding = 'UTF8') as f:\n",
    "    writer = csv.writer(f)\n",
    "    writer.writerow(header)\n",
    "    writer.writerow(data)\n",
    "    "
   ]
  },
  {
   "cell_type": "code",
   "execution_count": 157,
   "id": "f8c7b273",
   "metadata": {},
   "outputs": [
    {
     "name": "stdout",
     "output_type": "stream",
     "text": [
      "                    Name                     Title\n",
      "0  Moinul Hossain Dhrubo  Data Scientist / Analyst\n"
     ]
    }
   ],
   "source": [
    "\n",
    "\n",
    "import pandas as pd\n",
    "\n",
    "df = pd.read_csv(r'C:\\Users\\Windows\\MyWebScrapping.csv')\n",
    "\n",
    "print(df)"
   ]
  },
  {
   "cell_type": "code",
   "execution_count": null,
   "id": "9f81e66f",
   "metadata": {},
   "outputs": [],
   "source": [
    "# def check_title():\n",
    "#     URL = 'https://mhdhrubo.carrd.co/'\n",
    "\n",
    "#     headers = {\"User-Agent\": \"Mozilla/5.0 (Windows NT 10.0; Win64; x64) AppleWebKit/537.36 (KHTML, like Gecko) Chrome/114.0.0.0 Safari/537.36\"}\n",
    "\n",
    "#     page = requests.get(URL , headers = headers)\n",
    "#     #page.raise_for_status()\n",
    "\n",
    "#     soup1 = BeautifulSoup(page.content, 'html.parser')\n",
    "\n",
    "#     soup = BeautifulSoup(soup1.prettify(), 'html.parser')\n",
    "\n",
    "#     name = soup.find(id=\"text02\").get_text()\n",
    "#     title = soup.find(id=\"text09\").get_text()\n",
    "    \n",
    "#     name = name.strip()\n",
    "#     title = title.strip()\n",
    "\n",
    "#     import datetime\n",
    "\n",
    "#     today = datetime.date.today()\n",
    "    \n",
    "#     import csv\n",
    "\n",
    "#     header = ['Name','Title','Date']\n",
    "#     data = [name, title,today]\n",
    "    \n",
    "#     with open('MyWebScrapping.csv','w',newline = '',encoding = 'UTF8') as f:\n",
    "#         writer = csv.writer(f)\n",
    "#         writer.writerow(data)\n",
    "    "
   ]
  },
  {
   "cell_type": "code",
   "execution_count": null,
   "id": "b886275c",
   "metadata": {},
   "outputs": [],
   "source": [
    "# while(True):\n",
    "#     check.title()\n",
    "#     time.sleep()"
   ]
  }
 ],
 "metadata": {
  "kernelspec": {
   "display_name": "Python 3 (ipykernel)",
   "language": "python",
   "name": "python3"
  },
  "language_info": {
   "codemirror_mode": {
    "name": "ipython",
    "version": 3
   },
   "file_extension": ".py",
   "mimetype": "text/x-python",
   "name": "python",
   "nbconvert_exporter": "python",
   "pygments_lexer": "ipython3",
   "version": "3.9.13"
  }
 },
 "nbformat": 4,
 "nbformat_minor": 5
}
